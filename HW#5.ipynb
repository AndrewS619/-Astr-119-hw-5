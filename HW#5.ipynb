{
 "cells": [
  {
   "cell_type": "code",
   "execution_count": null,
   "metadata": {},
   "outputs": [],
   "source": [
    "%matplotlib inline\n",
    "import numpy as np\n",
    "import matplotlib.pyplot as plt"
   ]
  },
  {
   "cell_type": "code",
   "execution_count": null,
   "metadata": {},
   "outputs": [],
   "source": [
    "#function we want to find area using trapeziod\n",
    "def f(x):\n",
    "    return (np.exp(-2*x)) * (np.cos(10*x)) \n",
    "\n",
    "#answer to integral and true value of area\n",
    "def f_integral(x):\n",
    "    return (-1/52) * (np.exp(-2 * x)) * ((np.cos(10 * x))) - (5 * (np.sin(10 * x)))\n"
   ]
  },
  {
   "cell_type": "markdown",
   "metadata": {},
   "source": [
    "Trapezoid Method"
   ]
  },
  {
   "cell_type": "code",
   "execution_count": null,
   "metadata": {},
   "outputs": [],
   "source": [
    "#trapezoid method\n",
    "def trap(f,a,b,N):\n",
    "    AreaTrap = 0    #initial Area\n",
    "    x = np.linspace(a,b,N)\n",
    "    dx = x[1]-x[0]  #change in width\n",
    "    \n",
    "    for i in range(0,len(x)-1,1):\n",
    "        AreaTrap += dx * ((f(x+dx) + f(x)))/2  #adding the area of more trapeziod\n",
    "                                               #to the initial area \n",
    "    return AreaTrap"
   ]
  },
  {
   "cell_type": "markdown",
   "metadata": {},
   "source": [
    "Simpson's Method"
   ]
  },
  {
   "cell_type": "code",
   "execution_count": null,
   "metadata": {},
   "outputs": [],
   "source": [
    "#Simpon's Rule\n",
    "def Simp(f,a,b,N):\n",
    "    AreaSimp = 0    #initial Area\n",
    "    x = np.linspace(a,b,N)\n",
    "    dx = x[1]-x[0]  #change in width\n",
    "    \n",
    "    for i in range(0,len(x)-2,2):\n",
    "        AreaSimp += dx * ((f(x) + (4 * f(x+dx)) + f(x + 2 * dx))/3)  #adding the area of more trapeziod\n",
    "                                                                    #to the initial area \n",
    "    \n",
    "    return AreaSimp"
   ]
  },
  {
   "cell_type": "markdown",
   "metadata": {},
   "source": [
    "Romberg Integration"
   ]
  },
  {
   "cell_type": "code",
   "execution_count": null,
   "metadata": {},
   "outputs": [],
   "source": [
    "def Rom_func(f,a,b,i):\n",
    "    x = b - a\n",
    "    dx = x/2.**(i)\n",
    "    K = x/2.**(i+1)\n",
    "    M = 0.0\n",
    "    for j in range(2**i):\n",
    "        M += f(a + 0.5*dx + j*dx)\n",
    "        \n",
    "    return K*M"
   ]
  },
  {
   "cell_type": "code",
   "execution_count": null,
   "metadata": {},
   "outputs": [],
   "source": [
    "def Rom_int(f,a,b,tol):\n",
    "    i = 0\n",
    "    imax = 100\n",
    "    diff = 100.0*np.fabs(tol)\n",
    "    I = np.zeros(imax,dtype=float)\n",
    "    I[0] = 0.5*(b-a)*(f(a) + f(b))\n",
    "    i += 1\n",
    "    \n",
    "    while(diff>tol):\n",
    "        \n",
    "        I[i] = 0.5*I[i-1] + Rom_func(f,a,b,i)\n",
    "        diff = np.fabs((I[i]-I[i-1])/I[i])\n",
    "        \n",
    "        print(i,I[i],I[i-1],diff)\n",
    "        \n",
    "        if(diff>tol):\n",
    "            \n",
    "            i+=1\n",
    "            \n",
    "            if(i>imax):\n",
    "                print(\"Used All Iterations Allowed\")\n",
    "                raise StopIteration('Stop after reaching',i)\n",
    "                \n",
    "    return I[i]"
   ]
  },
  {
   "cell_type": "markdown",
   "metadata": {},
   "source": [
    "Lets check if we did a good job"
   ]
  },
  {
   "cell_type": "code",
   "execution_count": null,
   "metadata": {},
   "outputs": [],
   "source": [
    "True_A= f_integral(np.pi)-f_integral(0)\n",
    "print(True_A)\n",
    "print(\"Trapezoid Method\")\n",
    "print(trap(f,0,np.pi,2000))\n",
    "\n",
    "print(\"Simpson's Method\")\n",
    "print(Simp(f,0,np.pi,2000))\n",
    "\n",
    "print(\"Romberg Integration\")\n",
    "tol = 1.0e-6\n",
    "Rom_A = Rom_int(f,0,np.pi,tol)\n",
    "print(Rom_A, (Rom_A - True_A)/True_A,tol)"
   ]
  },
  {
   "cell_type": "code",
   "execution_count": null,
   "metadata": {},
   "outputs": [],
   "source": []
  }
 ],
 "metadata": {
  "kernelspec": {
   "display_name": "Python 3",
   "language": "python",
   "name": "python3"
  },
  "language_info": {
   "codemirror_mode": {
    "name": "ipython",
    "version": 3
   },
   "file_extension": ".py",
   "mimetype": "text/x-python",
   "name": "python",
   "nbconvert_exporter": "python",
   "pygments_lexer": "ipython3",
   "version": "3.8.6"
  }
 },
 "nbformat": 4,
 "nbformat_minor": 4
}
